{
 "cells": [
  {
   "cell_type": "code",
   "execution_count": 1,
   "id": "903e9ac5-6e86-4e4f-967f-47019a4cadbe",
   "metadata": {
    "tags": []
   },
   "outputs": [],
   "source": [
    "# IMPORT"
   ]
  },
  {
   "cell_type": "code",
   "execution_count": 2,
   "id": "bbfd44c5-59b5-400c-b133-f13a88b0ee5d",
   "metadata": {},
   "outputs": [],
   "source": [
    "import pandas as pd\n",
    "import plotly.express as px"
   ]
  },
  {
   "cell_type": "code",
   "execution_count": 3,
   "id": "1a2a5a61-d431-42ae-af85-b923c22b1c2b",
   "metadata": {
    "tags": []
   },
   "outputs": [],
   "source": [
    "#LOAD DATAFRAME"
   ]
  },
  {
   "cell_type": "code",
   "execution_count": 4,
   "id": "cc23d2d1-df58-40e2-97a8-3a9388f6bd51",
   "metadata": {
    "tags": []
   },
   "outputs": [
    {
     "data": {
      "text/plain": [
       "<bound method NDFrame.head of      Department  Age  Rating\n",
       "0     Marketing   59  3 Star\n",
       "1      Logistic   58  2 Star\n",
       "2    Purchasing   49  2 Star\n",
       "3      Logistic   43  3 Star\n",
       "4      Logistic   32  2 Star\n",
       "..          ...  ...     ...\n",
       "671   Marketing   45  4 Star\n",
       "672  Purchasing   60  3 Star\n",
       "673  Purchasing   43  4 Star\n",
       "674   Marketing   56  2 Star\n",
       "675       Sales   49  2 Star\n",
       "\n",
       "[676 rows x 3 columns]>"
      ]
     },
     "execution_count": 4,
     "metadata": {},
     "output_type": "execute_result"
    }
   ],
   "source": [
    "excel_file = 'Survey_Results.xlsx'\n",
    "sheet_name = 'DATA'\n",
    "\n",
    "df = pd.read_excel(excel_file,\n",
    "                   sheet_name=sheet_name,\n",
    "                   usecols='B:D',\n",
    "                   header=3)\n",
    "df.head"
   ]
  },
  {
   "cell_type": "code",
   "execution_count": 5,
   "id": "b5498c39-8d82-4b09-90be-170fb933ce30",
   "metadata": {
    "tags": []
   },
   "outputs": [
    {
     "data": {
      "text/plain": [
       "(676, 3)"
      ]
     },
     "execution_count": 5,
     "metadata": {},
     "output_type": "execute_result"
    }
   ],
   "source": [
    "df.shape"
   ]
  },
  {
   "cell_type": "code",
   "execution_count": 6,
   "id": "06218b29-6ab3-446e-8635-087ecab29999",
   "metadata": {
    "tags": []
   },
   "outputs": [
    {
     "name": "stdout",
     "output_type": "stream",
     "text": [
      "Total Rows: 676\n"
     ]
    }
   ],
   "source": [
    "total_rows = df.shape[0]\n",
    "print(f'Total Rows: {total_rows}')"
   ]
  },
  {
   "cell_type": "code",
   "execution_count": 7,
   "id": "177ebff4-a01b-4998-8e53-e08aa8c6ea8d",
   "metadata": {
    "tags": []
   },
   "outputs": [],
   "source": [
    "#Filter/Group DataFrame"
   ]
  },
  {
   "cell_type": "code",
   "execution_count": null,
   "id": "7203aec2-9681-4214-8523-23b219469f48",
   "metadata": {},
   "outputs": [],
   "source": [
    "#Filter W/ Department"
   ]
  },
  {
   "cell_type": "code",
   "execution_count": 8,
   "id": "e84b8ba9-7711-4f68-a764-2433db63ecd2",
   "metadata": {
    "tags": []
   },
   "outputs": [
    {
     "data": {
      "text/plain": [
       "['Marketing', 'Logistic', 'Purchasing', 'Sales', 'Finance']"
      ]
     },
     "execution_count": 8,
     "metadata": {},
     "output_type": "execute_result"
    }
   ],
   "source": [
    "departments = df['Department'].unique().tolist()\n",
    "departments"
   ]
  },
  {
   "cell_type": "code",
   "execution_count": 9,
   "id": "f899ab1c-e856-4fd2-9525-644725db457c",
   "metadata": {
    "tags": []
   },
   "outputs": [],
   "source": [
    "departments_selection = ['Sales', 'Marketing', 'Finance']"
   ]
  },
  {
   "cell_type": "code",
   "execution_count": 11,
   "id": "eb5b98f4-e198-4236-b24b-f9657be709c1",
   "metadata": {
    "tags": []
   },
   "outputs": [
    {
     "data": {
      "text/html": [
       "<div>\n",
       "<style scoped>\n",
       "    .dataframe tbody tr th:only-of-type {\n",
       "        vertical-align: middle;\n",
       "    }\n",
       "\n",
       "    .dataframe tbody tr th {\n",
       "        vertical-align: top;\n",
       "    }\n",
       "\n",
       "    .dataframe thead th {\n",
       "        text-align: right;\n",
       "    }\n",
       "</style>\n",
       "<table border=\"1\" class=\"dataframe\">\n",
       "  <thead>\n",
       "    <tr style=\"text-align: right;\">\n",
       "      <th></th>\n",
       "      <th>Department</th>\n",
       "      <th>Age</th>\n",
       "      <th>Rating</th>\n",
       "    </tr>\n",
       "  </thead>\n",
       "  <tbody>\n",
       "    <tr>\n",
       "      <th>0</th>\n",
       "      <td>Marketing</td>\n",
       "      <td>59</td>\n",
       "      <td>3 Star</td>\n",
       "    </tr>\n",
       "    <tr>\n",
       "      <th>8</th>\n",
       "      <td>Sales</td>\n",
       "      <td>53</td>\n",
       "      <td>2 Star</td>\n",
       "    </tr>\n",
       "    <tr>\n",
       "      <th>9</th>\n",
       "      <td>Marketing</td>\n",
       "      <td>56</td>\n",
       "      <td>3 Star</td>\n",
       "    </tr>\n",
       "    <tr>\n",
       "      <th>10</th>\n",
       "      <td>Marketing</td>\n",
       "      <td>26</td>\n",
       "      <td>2 Star</td>\n",
       "    </tr>\n",
       "    <tr>\n",
       "      <th>12</th>\n",
       "      <td>Sales</td>\n",
       "      <td>59</td>\n",
       "      <td>4 Star</td>\n",
       "    </tr>\n",
       "  </tbody>\n",
       "</table>\n",
       "</div>"
      ],
      "text/plain": [
       "   Department  Age  Rating\n",
       "0   Marketing   59  3 Star\n",
       "8       Sales   53  2 Star\n",
       "9   Marketing   56  3 Star\n",
       "10  Marketing   26  2 Star\n",
       "12      Sales   59  4 Star"
      ]
     },
     "execution_count": 11,
     "metadata": {},
     "output_type": "execute_result"
    }
   ],
   "source": [
    "mask = df['Department'].isin(departments_selection)\n",
    "mask\n",
    "df[mask].head()"
   ]
  },
  {
   "cell_type": "code",
   "execution_count": null,
   "id": "f6e45205-bc8a-4271-9f56-86c363615981",
   "metadata": {},
   "outputs": [],
   "source": [
    "#Filter W/ Age"
   ]
  },
  {
   "cell_type": "code",
   "execution_count": 12,
   "id": "4f9b9c75-542f-4be2-92dd-e1f871802046",
   "metadata": {
    "tags": []
   },
   "outputs": [
    {
     "data": {
      "text/html": [
       "<div>\n",
       "<style scoped>\n",
       "    .dataframe tbody tr th:only-of-type {\n",
       "        vertical-align: middle;\n",
       "    }\n",
       "\n",
       "    .dataframe tbody tr th {\n",
       "        vertical-align: top;\n",
       "    }\n",
       "\n",
       "    .dataframe thead th {\n",
       "        text-align: right;\n",
       "    }\n",
       "</style>\n",
       "<table border=\"1\" class=\"dataframe\">\n",
       "  <thead>\n",
       "    <tr style=\"text-align: right;\">\n",
       "      <th></th>\n",
       "      <th>Department</th>\n",
       "      <th>Age</th>\n",
       "      <th>Rating</th>\n",
       "    </tr>\n",
       "  </thead>\n",
       "  <tbody>\n",
       "    <tr>\n",
       "      <th>4</th>\n",
       "      <td>Logistic</td>\n",
       "      <td>32</td>\n",
       "      <td>2 Star</td>\n",
       "    </tr>\n",
       "    <tr>\n",
       "      <th>5</th>\n",
       "      <td>Purchasing</td>\n",
       "      <td>35</td>\n",
       "      <td>3 Star</td>\n",
       "    </tr>\n",
       "    <tr>\n",
       "      <th>20</th>\n",
       "      <td>Logistic</td>\n",
       "      <td>37</td>\n",
       "      <td>4 Star</td>\n",
       "    </tr>\n",
       "    <tr>\n",
       "      <th>31</th>\n",
       "      <td>Sales</td>\n",
       "      <td>30</td>\n",
       "      <td>3 Star</td>\n",
       "    </tr>\n",
       "    <tr>\n",
       "      <th>41</th>\n",
       "      <td>Finance</td>\n",
       "      <td>30</td>\n",
       "      <td>3 Star</td>\n",
       "    </tr>\n",
       "    <tr>\n",
       "      <th>...</th>\n",
       "      <td>...</td>\n",
       "      <td>...</td>\n",
       "      <td>...</td>\n",
       "    </tr>\n",
       "    <tr>\n",
       "      <th>657</th>\n",
       "      <td>Marketing</td>\n",
       "      <td>35</td>\n",
       "      <td>2 Star</td>\n",
       "    </tr>\n",
       "    <tr>\n",
       "      <th>659</th>\n",
       "      <td>Logistic</td>\n",
       "      <td>37</td>\n",
       "      <td>4 Star</td>\n",
       "    </tr>\n",
       "    <tr>\n",
       "      <th>660</th>\n",
       "      <td>Sales</td>\n",
       "      <td>40</td>\n",
       "      <td>3 Star</td>\n",
       "    </tr>\n",
       "    <tr>\n",
       "      <th>664</th>\n",
       "      <td>Marketing</td>\n",
       "      <td>40</td>\n",
       "      <td>3 Star</td>\n",
       "    </tr>\n",
       "    <tr>\n",
       "      <th>670</th>\n",
       "      <td>Purchasing</td>\n",
       "      <td>38</td>\n",
       "      <td>4 Star</td>\n",
       "    </tr>\n",
       "  </tbody>\n",
       "</table>\n",
       "<p>145 rows × 3 columns</p>\n",
       "</div>"
      ],
      "text/plain": [
       "     Department  Age  Rating\n",
       "4      Logistic   32  2 Star\n",
       "5    Purchasing   35  3 Star\n",
       "20     Logistic   37  4 Star\n",
       "31        Sales   30  3 Star\n",
       "41      Finance   30  3 Star\n",
       "..          ...  ...     ...\n",
       "657   Marketing   35  2 Star\n",
       "659    Logistic   37  4 Star\n",
       "660       Sales   40  3 Star\n",
       "664   Marketing   40  3 Star\n",
       "670  Purchasing   38  4 Star\n",
       "\n",
       "[145 rows x 3 columns]"
      ]
     },
     "execution_count": 12,
     "metadata": {},
     "output_type": "execute_result"
    }
   ],
   "source": [
    "age_selection = (30,40)\n",
    "mask = df['Age'].between(*age_selection)\n",
    "df[mask]"
   ]
  },
  {
   "cell_type": "code",
   "execution_count": null,
   "id": "3320668d-c72b-4c22-bda9-dc3264c9f9ad",
   "metadata": {},
   "outputs": [],
   "source": [
    "#Group W/ Rate"
   ]
  },
  {
   "cell_type": "code",
   "execution_count": 15,
   "id": "c851d3a0-63c3-45e2-a4cd-3a2f099a0918",
   "metadata": {
    "tags": []
   },
   "outputs": [
    {
     "data": {
      "text/html": [
       "<div>\n",
       "<style scoped>\n",
       "    .dataframe tbody tr th:only-of-type {\n",
       "        vertical-align: middle;\n",
       "    }\n",
       "\n",
       "    .dataframe tbody tr th {\n",
       "        vertical-align: top;\n",
       "    }\n",
       "\n",
       "    .dataframe thead th {\n",
       "        text-align: right;\n",
       "    }\n",
       "</style>\n",
       "<table border=\"1\" class=\"dataframe\">\n",
       "  <thead>\n",
       "    <tr style=\"text-align: right;\">\n",
       "      <th></th>\n",
       "      <th>Department</th>\n",
       "      <th>Age</th>\n",
       "    </tr>\n",
       "    <tr>\n",
       "      <th>Rating</th>\n",
       "      <th></th>\n",
       "      <th></th>\n",
       "    </tr>\n",
       "  </thead>\n",
       "  <tbody>\n",
       "    <tr>\n",
       "      <th>1 Star</th>\n",
       "      <td>82</td>\n",
       "      <td>82</td>\n",
       "    </tr>\n",
       "    <tr>\n",
       "      <th>2 Star</th>\n",
       "      <td>177</td>\n",
       "      <td>177</td>\n",
       "    </tr>\n",
       "    <tr>\n",
       "      <th>3 Star</th>\n",
       "      <td>207</td>\n",
       "      <td>207</td>\n",
       "    </tr>\n",
       "    <tr>\n",
       "      <th>4 Star</th>\n",
       "      <td>150</td>\n",
       "      <td>150</td>\n",
       "    </tr>\n",
       "    <tr>\n",
       "      <th>5 Star</th>\n",
       "      <td>60</td>\n",
       "      <td>60</td>\n",
       "    </tr>\n",
       "  </tbody>\n",
       "</table>\n",
       "</div>"
      ],
      "text/plain": [
       "        Department  Age\n",
       "Rating                 \n",
       "1 Star          82   82\n",
       "2 Star         177  177\n",
       "3 Star         207  207\n",
       "4 Star         150  150\n",
       "5 Star          60   60"
      ]
     },
     "execution_count": 15,
     "metadata": {},
     "output_type": "execute_result"
    }
   ],
   "source": [
    "df_grouped = df.groupby(by=['Rating']).count()[['Age']]\n",
    "df_grouped"
   ]
  },
  {
   "cell_type": "code",
   "execution_count": null,
   "id": "d3f5d7eb-8ae3-4673-a9bf-72751347d208",
   "metadata": {},
   "outputs": [],
   "source": []
  }
 ],
 "metadata": {
  "kernelspec": {
   "display_name": "Python 3 (ipykernel)",
   "language": "python",
   "name": "python3"
  },
  "language_info": {
   "codemirror_mode": {
    "name": "ipython",
    "version": 3
   },
   "file_extension": ".py",
   "mimetype": "text/x-python",
   "name": "python",
   "nbconvert_exporter": "python",
   "pygments_lexer": "ipython3",
   "version": "3.11.0"
  }
 },
 "nbformat": 4,
 "nbformat_minor": 5
}
